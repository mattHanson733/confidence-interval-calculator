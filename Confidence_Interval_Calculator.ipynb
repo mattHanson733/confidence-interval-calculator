{
  "nbformat": 4,
  "nbformat_minor": 0,
  "metadata": {
    "colab": {
      "provenance": [],
      "authorship_tag": "ABX9TyPLMPaZ5pmzajhcMg3Oy3QG",
      "include_colab_link": true
    },
    "kernelspec": {
      "name": "python3",
      "display_name": "Python 3"
    },
    "language_info": {
      "name": "python"
    }
  },
  "cells": [
    {
      "cell_type": "markdown",
      "metadata": {
        "id": "view-in-github",
        "colab_type": "text"
      },
      "source": [
        "<a href=\"https://colab.research.google.com/github/mattHanson733/confidence-interval-calculator/blob/main/Confidence_Interval_Calculator.ipynb\" target=\"_parent\"><img src=\"https://colab.research.google.com/assets/colab-badge.svg\" alt=\"Open In Colab\"/></a>"
      ]
    },
    {
      "cell_type": "markdown",
      "source": [
        "### Formula for finding *Confidence Intervals* for proportions\n",
        "\n",
        "$$ \\text{Confidence Interval} = p̂ \\pm z^* \\sqrt{p̂(1- p̂) \\over n} $$ \\\n",
        "\n",
        "$$ z^* = invNorm(area= {(1-c) \\over 2}, μ = 0, σ = 1, tail = left) $$\\\n",
        " $$c = \\text{confidence level}$$\n",
        "\n",
        "\n",
        "\n"
      ],
      "metadata": {
        "id": "lQAnFhNLxhJG"
      }
    },
    {
      "cell_type": "markdown",
      "source": [
        "### Formula for finding 𝓃 for proportions\n",
        "$$ n = {p̂(1-p̂) \\over  ({\\text{Margin of Error} \\over z^* })} $$\n"
      ],
      "metadata": {
        "id": "Jue48G2IGYsj"
      }
    },
    {
      "cell_type": "code",
      "execution_count": null,
      "metadata": {
        "id": "UGjAYkLWaUKY",
        "cellView": "form"
      },
      "outputs": [],
      "source": [
        "# @title Click play to find Confidence Intervals or n for *proportions*\n",
        "import math\n",
        "import scipy.stats as st\n",
        "from IPython.display import display, Latex\n",
        "\n",
        "\n",
        "class Color:\n",
        "    PURPLE = '\\033[95m'\n",
        "    CYAN = '\\033[96m'\n",
        "    DARKCYAN = '\\033[36m'\n",
        "    BLUE = '\\033[94m'\n",
        "    GREEN = '\\033[92m'\n",
        "    YELLOW = '\\033[93m'\n",
        "    RED = '\\033[91m'\n",
        "    BOLD = '\\033[1m'\n",
        "    UNDERLINE = '\\033[4m'\n",
        "    END = '\\033[0m'\n",
        "\n",
        "\n",
        "def verify_p_normality(p: float, n: int):\n",
        "    np = n * p\n",
        "    nq = n * (1 - p)\n",
        "\n",
        "    print(\"Verify Normality\")\n",
        "    print(\"----------------\")\n",
        "    print(f\"n * p = {np}\")\n",
        "    print(f\"n * (1 - p) = {nq}\\n\")\n",
        "\n",
        "    if ((p < 0) | (p > 1)):\n",
        "        return print(\"p must be between 0 and 1\")\n",
        "\n",
        "    if ( ((n*p) >= 10) & (n*(1 - p) >= 10) ):\n",
        "\n",
        "        return print(\"!! The distribution is approx. Normal !!\\n\\n\")\n",
        "\n",
        "    return print(\"The distribution is NOT approx. Normal \\n\")\n",
        "\n",
        "def calculate_z_star(confidence_lvl: float):\n",
        "    norm_dist = st.norm() ## Generate default normal distribution\n",
        "    z_star: float = abs( norm_dist.ppf((1 - confidence_lvl ) / 2) ) ## Find z*; abs value b/c z* required > 0\n",
        "\n",
        "    if (use_rounding == True):\n",
        "        z_star = round(z_star, rounding_factor) ## Round z*\n",
        "\n",
        "    return z_star\n",
        "\n",
        "\n",
        "def calculate_p_CI(p_hat: float, n: int, confidence_lvl: float) -> tuple[float, float] | None:\n",
        "\n",
        "    if ((confidence_lvl < 0) | (confidence_lvl > 1)):\n",
        "        return print(\"confidence level must be between 0 and 1\") ## Verify that: 0 < confindence level < 1\n",
        "\n",
        "    verify_p_normality(p_hat, n) ## Quantatively verify that the sampling distribution is approx. Normal\n",
        "\n",
        "\n",
        "    print(\"Calculate Confidence Interval\")\n",
        "    print(\"-----------------------------\")\n",
        "\n",
        "    std_error: float = math.sqrt( (p_hat * (1 - p_hat)) / sample_size ) ## Calculate Standard Error\n",
        "\n",
        "    z_star: float = calculate_z_star(confidence_lvl) ## Calculate z*\n",
        "\n",
        "    critical_value: float = z_star * std_error ## Calculate the critical value; (z*) * (SE)\n",
        "\n",
        "    confidence_interval = ( (p_hat - critical_value), (p_hat + critical_value) ) ## Calculate confidence interval by +/- Critical Value from p̂\n",
        "\n",
        "    ## Return results to user\n",
        "    display( Latex(f'z^* = invNorm(area= {round( ((1 - 0.95) / 2), 4)}, μ = 0, σ = 1, tail = left) = \\\\textcolor{{red}}{{ {z_star} }}') )\n",
        "    print('\\n')\n",
        "    display( Latex(f'\\\\sqrt{{{p_hat} * ({1 - p_hat}) \\\\over {n}}} = \\\\textcolor{{green}}{{ {p_hat} }}') )\n",
        "    ## print(f\"Std. Error: {std_error} \\n\")\n",
        "    print(f\"Critical Value (z* × std. err.): {critical_value} \\n\")\n",
        "    print(f\"{confidence_lvl * 100}% Confidence Interval: {Color.CYAN} ({confidence_interval[0]}, {confidence_interval[1]}) {Color.END} \\n\")\n",
        "\n",
        "    return confidence_interval\n",
        "\n",
        "def calculate_p_N(p_hat: float, confidence_lvl: float, margin_of_error: float) -> float:\n",
        "\n",
        "    print(\"Calculate n\")\n",
        "    print(\"-----------\")\n",
        "\n",
        "    z_star: float = calculate_z_star(confidence_lvl) ## Calculate z*\n",
        "\n",
        "    ## Calculate n\n",
        "    n_numerator: float = (p_hat * (1 - p_hat)) ## p̂(1-p̂)\n",
        "\n",
        "    n_denominator: float = math.pow((margin_of_error / z_star), 2) ## ( Margin of Error / z* )^2\n",
        "\n",
        "    if (use_rounding == True):\n",
        "        n_denominator = round(n_denominator, rounding_factor)\n",
        "\n",
        "    n: float = n_numerator / n_denominator\n",
        "\n",
        "    if (use_rounding == True):\n",
        "        n = round(n, rounding_factor)\n",
        "\n",
        "    print(f\"The value of n is {Color.CYAN} {n} units {Color.END}\\n\")\n",
        "\n",
        "    return n\n",
        "\n",
        "\n",
        "\n",
        "## Collect user input\n",
        "print(\"Your inputs\")\n",
        "print(\"------------\")\n",
        "\n",
        "use_rounding: bool\n",
        "\n",
        "prompt_use_rounding: str = input(\"Round values (y/n)?: \")\n",
        "rounding_factor: int\n",
        "if (prompt_use_rounding == \"y\") :\n",
        "    use_rounding = True\n",
        "    rounding_factor = int( input(\"# of places: \") )\n",
        "else:\n",
        "    use_rounding = False\n",
        "\n",
        "print(\"\\n\")\n",
        "\n",
        "option: str = input(\"|Calculate 'CI' or 'n' ?: \")\n",
        "\n",
        "\n",
        "print(\"\\n\")\n",
        "\n",
        "p_hat: float = float( input(\"p̂: \") )\n",
        "c_lvl: float = float( input(\"Confidence level (e.g. 0.95): \") )\n",
        "\n",
        "if (option == \"CI\"):\n",
        "    sample_size: int = int( input(\"Sample Size: \") )\n",
        "    print(\"\\n\")\n",
        "    calculate_p_CI(p_hat, sample_size, c_lvl)\n",
        "\n",
        "if (option == \"n\"):\n",
        "    margin_of_error: float = float( input(\"Margin of Error: \") )\n",
        "    print(\"\\n\")\n",
        "    calculate_p_N(p_hat, c_lvl, margin_of_error)\n",
        "\n",
        "\n",
        "\n"
      ]
    },
    {
      "cell_type": "markdown",
      "source": [
        "\n",
        "\n",
        "---\n",
        "\n"
      ],
      "metadata": {
        "id": "0d13VYIgo6Gh"
      }
    },
    {
      "cell_type": "markdown",
      "source": [
        "### Formula for finding *Confidence Intervals* for means\n",
        "\n",
        "$$ \\text{Confidence Interval} = x̄ ± t^* ( {σ_{x̄} \\over \\sqrt{n}} )$$"
      ],
      "metadata": {
        "id": "mkX3pjXao76J"
      }
    },
    {
      "cell_type": "markdown",
      "source": [
        "$$ t^* = invT(\\text{area}= c, \\text{df}= (n - 1)) $$ \\\n",
        "$$ c = \\text{confidence level} + {(1 - \\text{confidence level}) \\over 2} $$ \\\n"
      ],
      "metadata": {
        "id": "9G2DG4VpntAr"
      }
    },
    {
      "cell_type": "code",
      "source": [
        " # @title Click play to find Confidence Intervals for *means*\n",
        "import math\n",
        "import scipy.stats as st\n",
        "from IPython.display import display, Latex\n",
        "\n",
        "class Color:\n",
        "    PURPLE = '\\033[95m'\n",
        "    CYAN = '\\033[96m'\n",
        "    DARKCYAN = '\\033[36m'\n",
        "    BLUE = '\\033[94m'\n",
        "    GREEN = '\\033[92m'\n",
        "    YELLOW = '\\033[93m'\n",
        "    RED = '\\033[91m'\n",
        "    BOLD = '\\033[1m'\n",
        "    UNDERLINE = '\\033[4m'\n",
        "    END = '\\033[0m'\n",
        "\n",
        "def verify_m_normality(n: int):\n",
        "    print(\"Verify Normality\")\n",
        "    print(\"----------------\")\n",
        "    print(f\"n = {n} \\n\")\n",
        "\n",
        "    if (n < 0):\n",
        "        return print(\"n must be greater than 0\")\n",
        "\n",
        "    if ( n >= 30 ):\n",
        "\n",
        "        return print(\"!! The distribution is approx. Normal !!\\n\\n\")\n",
        "\n",
        "    return print(\"The distribution is NOT approx. Normal \\n\")\n",
        "\n",
        "\n",
        "def calculate_t_star(confidence_lvl: float, n: int):\n",
        "    area: float = ((1 - confidence_lvl) / 2) + confidence_lvl ## area under the curve to calulate\n",
        "\n",
        "    t_dist = st.t( df=(n-1)) ## create a t distribution with (n - 1) degrees of freedom\n",
        "\n",
        "    t_star: float = t_dist.ppf(area) ## calculate the t* value\n",
        "\n",
        "    if (use_rounding == True):\n",
        "        t_star = round(t_star, rounding_factor) ## Round t* if requested by user\n",
        "\n",
        "    return t_star\n",
        "\n",
        "\n",
        "def calculate_m_CI(x_bar: float, sample_std_dev: float, confidence_lvl: float, n: int):\n",
        "    if ((confidence_lvl < 0) | (confidence_lvl > 1)):\n",
        "        return print(\"confidence level must be between 0 and 1\") ## Verify that: 0 < confindence level < 1\n",
        "\n",
        "    verify_m_normality(n) ## Quantatively verify that the sampling distribution is approx. Normal\n",
        "\n",
        "\n",
        "    print(\"Calculate Confidence Interval\")\n",
        "    print(\"-----------------------------\")\n",
        "\n",
        "    std_error: float = sample_std_dev / math.sqrt(n) ## Calculate Standard Error\n",
        "\n",
        "    t_star: float = calculate_t_star(confidence_lvl, n) ## Calculate t*\n",
        "\n",
        "    critical_value: float = t_star * std_error ## Calculate the Critical Value; (t*) * (SE)\n",
        "\n",
        "    confidence_interval = ( (x_bar - critical_value), (x_bar + critical_value) ) ## Calculate confidence interval by +/- Critical Value from x̄\n",
        "\n",
        "     ## Return results to user\n",
        "    display( Latex(f't^* = invT(area= {round( ((1 - confidence_lvl) / 2) + confidence_lvl, 4)}, df= {n - 1}) = \\\\textcolor{{red}}{{ {t_star} }}') )\n",
        "    print('\\n')\n",
        "    display( Latex(f'SE_x̄ = {{ {sample_std_dev} \\\\over \\\\sqrt{{ {n} }} }} = \\\\textcolor{{green}}{{ {std_error} }}') )\n",
        "    print('\\n')\n",
        "    print(f\"Critical Value (t* × std. err.): {critical_value} \\n\")\n",
        "    print(f\"{confidence_lvl * 100}% Confidence Interval: {Color.CYAN} ({confidence_interval[0]}, {confidence_interval[1]}) {Color.END} \\n\")\n",
        "\n",
        "\n",
        "## Collect user input\n",
        "print(\"Your inputs\")\n",
        "print(\"------------\")\n",
        "\n",
        "use_rounding: bool\n",
        "\n",
        "prompt_use_rounding: str = input(\"Round values (y/n)?: \")\n",
        "rounding_factor: int\n",
        "if (prompt_use_rounding == \"y\") :\n",
        "    use_rounding = True\n",
        "    rounding_factor = int( input(\"# of places: \") )\n",
        "else:\n",
        "    use_rounding = False\n",
        "\n",
        "print(\"\\n\")\n",
        "\n",
        "x_bar: float = float( input(\"x̄: \") )\n",
        "std_dev: float = float( input(\"Sample Std. Dev.: \") )\n",
        "c_lvl: float = float( input(\"Confidence level (e.g. 0.95): \") )\n",
        "sample_size: int = int( input(\"Sample Size: \") )\n",
        "print(\"\\n\")\n",
        "calculate_m_CI(x_bar, std_dev, c_lvl, sample_size)\n",
        "\n",
        "\n",
        "\n"
      ],
      "metadata": {
        "id": "XdW381b-DLMq",
        "colab": {
          "base_uri": "https://localhost:8080/",
          "height": 563
        },
        "outputId": "6c36c2a3-cc3d-4a7c-bdde-0fa817e88736"
      },
      "execution_count": null,
      "outputs": [
        {
          "output_type": "stream",
          "name": "stdout",
          "text": [
            "Your inputs\n",
            "------------\n",
            "Round values (y/n)?: y\n",
            "# of places: 4\n",
            "\n",
            "\n",
            "x̄: 4.9\n",
            "Sample Std. Dev.: 1.12\n",
            "Confidence level (e.g. 0.95): 0.95\n",
            "Sample Size: 23\n",
            "\n",
            "\n",
            "Verify Normality\n",
            "----------------\n",
            "n = 23 \n",
            "\n",
            "The distribution is NOT approx. Normal \n",
            "\n",
            "Calculate Confidence Interval\n",
            "-----------------------------\n"
          ]
        },
        {
          "output_type": "display_data",
          "data": {
            "text/plain": [
              "<IPython.core.display.Latex object>"
            ],
            "text/latex": "t^* = invT(area= 0.975, df= 22) = \\textcolor{red}{ 2.0739 }"
          },
          "metadata": {}
        },
        {
          "output_type": "stream",
          "name": "stdout",
          "text": [
            "\n",
            "\n"
          ]
        },
        {
          "output_type": "display_data",
          "data": {
            "text/plain": [
              "<IPython.core.display.Latex object>"
            ],
            "text/latex": "SE_x̄ = { 1.12 \\over \\sqrt{ 23 } } = \\textcolor{green}{ 0.23353614374392379 }"
          },
          "metadata": {}
        },
        {
          "output_type": "stream",
          "name": "stdout",
          "text": [
            "\n",
            "\n",
            "Critical Value (t* × std. err.): 0.48433060851052356 \n",
            "\n",
            "95.0% Confidence Interval: \u001b[96m (4.415669391489477, 5.384330608510524) \u001b[0m \n",
            "\n"
          ]
        }
      ]
    }
  ]
}